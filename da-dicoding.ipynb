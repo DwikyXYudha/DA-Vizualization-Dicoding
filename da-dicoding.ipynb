{
 "cells": [
  {
   "cell_type": "markdown",
   "metadata": {},
   "source": [
    "# Data Analysis Project: E-commerce-public-dataset\n",
    "- Name:Dwiky Yudha Prasetya\n",
    "- Email: dwiky.yudh@gmail.com\n",
    "- Dicoding ID: dwikyyudhap"
   ]
  },
  {
   "cell_type": "markdown",
   "metadata": {},
   "source": [
    "## Defining Business Questions"
   ]
  },
  {
   "cell_type": "markdown",
   "metadata": {},
   "source": [
    "- What are the top five most significant demographic segments of customers, categorized by state?\n",
    "- What are the most and least sold products category?\n",
    "- When did the customer last make a transaction?\n",
    "- How often has a customer made a purchase in the last few months?\n",
    "- How much money did the customer spend in the last few months?"
   ]
  },
  {
   "cell_type": "markdown",
   "metadata": {},
   "source": [
    "## Preparing All Required Libraries"
   ]
  },
  {
   "cell_type": "code",
   "execution_count": 1,
   "metadata": {},
   "outputs": [],
   "source": [
    "import numpy as np\n",
    "import matplotlib.pyplot as plt\n",
    "import pandas as pd\n",
    "import seaborn as sns"
   ]
  },
  {
   "cell_type": "markdown",
   "metadata": {},
   "source": [
    "## Data Wrangling"
   ]
  },
  {
   "cell_type": "markdown",
   "metadata": {},
   "source": [
    "- To answer the first question, we will load Customer Dataset\n",
    "- To answer the second question, we will load multiple Dataset such as Order Items Dataset, Products Dataset, and Product Category Name Translation Dataset"
   ]
  },
  {
   "cell_type": "markdown",
   "metadata": {},
   "source": [
    "### Gathering Data"
   ]
  },
  {
   "cell_type": "markdown",
   "metadata": {},
   "source": [
    "#### 1. Customers Dataset"
   ]
  },
  {
   "cell_type": "markdown",
   "metadata": {},
   "source": [
    "##### Load Customers Dataset"
   ]
  },
  {
   "cell_type": "code",
   "execution_count": 2,
   "metadata": {},
   "outputs": [],
   "source": [
    "customers_df = pd.read_csv(\"E-commerce-public-dataset\\customers_dataset.csv\")"
   ]
  },
  {
   "cell_type": "markdown",
   "metadata": {},
   "source": [
    "#### 2. Order Items Dataset"
   ]
  },
  {
   "cell_type": "markdown",
   "metadata": {},
   "source": [
    "##### Load Order Items Dataset"
   ]
  },
  {
   "cell_type": "code",
   "execution_count": 3,
   "metadata": {},
   "outputs": [],
   "source": [
    "order_items_df = pd.read_csv(r\"E-commerce-public-dataset\\order_items_dataset.csv\")"
   ]
  },
  {
   "cell_type": "markdown",
   "metadata": {},
   "source": [
    "#### 3. Products Dataset"
   ]
  },
  {
   "cell_type": "markdown",
   "metadata": {},
   "source": [
    "##### Load Products Dataset"
   ]
  },
  {
   "cell_type": "code",
   "execution_count": 4,
   "metadata": {},
   "outputs": [],
   "source": [
    "products_df = pd.read_csv(r\"E-commerce-public-dataset\\products_dataset.csv\")"
   ]
  },
  {
   "cell_type": "markdown",
   "metadata": {},
   "source": [
    "#### 4. Product Category Name Translation Dataset"
   ]
  },
  {
   "cell_type": "markdown",
   "metadata": {},
   "source": [
    "##### Load Product Category Name Translation Dataset"
   ]
  },
  {
   "cell_type": "code",
   "execution_count": 5,
   "metadata": {},
   "outputs": [],
   "source": [
    "product_category_name_translation_df = pd.read_csv(r\"E-commerce-public-dataset\\product_category_name_translation.csv\")"
   ]
  },
  {
   "cell_type": "markdown",
   "metadata": {},
   "source": [
    "#### 5. Product Orders Dataset"
   ]
  },
  {
   "cell_type": "markdown",
   "metadata": {},
   "source": [
    "##### Load Orders Dataset"
   ]
  },
  {
   "cell_type": "code",
   "execution_count": 6,
   "metadata": {},
   "outputs": [],
   "source": [
    "orders_df = pd.read_csv(\"E-commerce-public-dataset\\orders_dataset.csv\")"
   ]
  },
  {
   "cell_type": "markdown",
   "metadata": {},
   "source": [
    "### Assessing Data"
   ]
  },
  {
   "cell_type": "markdown",
   "metadata": {},
   "source": [
    "\"In the 'Assessing Data' step, we will conduct a comprehensive examination of all the datasets that we have previously loaded. This process will involve:\n",
    "- Reviewing data information.\n",
    "- Identifying missing values.\n",
    "- Detecting duplicate entries.\n",
    "- Addressing other relevant items."
   ]
  },
  {
   "cell_type": "markdown",
   "metadata": {},
   "source": [
    "#### 1. Customers Dataset"
   ]
  },
  {
   "cell_type": "markdown",
   "metadata": {},
   "source": [
    "##### Checking Customers Dataset Information"
   ]
  },
  {
   "cell_type": "code",
   "execution_count": 7,
   "metadata": {},
   "outputs": [
    {
     "name": "stdout",
     "output_type": "stream",
     "text": [
      "<class 'pandas.core.frame.DataFrame'>\n",
      "RangeIndex: 99441 entries, 0 to 99440\n",
      "Data columns (total 5 columns):\n",
      " #   Column                    Non-Null Count  Dtype \n",
      "---  ------                    --------------  ----- \n",
      " 0   customer_id               99441 non-null  object\n",
      " 1   customer_unique_id        99441 non-null  object\n",
      " 2   customer_zip_code_prefix  99441 non-null  int64 \n",
      " 3   customer_city             99441 non-null  object\n",
      " 4   customer_state            99441 non-null  object\n",
      "dtypes: int64(1), object(4)\n",
      "memory usage: 3.8+ MB\n"
     ]
    }
   ],
   "source": [
    "customers_df.info()"
   ]
  },
  {
   "cell_type": "markdown",
   "metadata": {},
   "source": [
    "In **Customers Dataset**, we will only use column to answer business questions: \n",
    "- `customer_id`\n",
    "- `customer_zip_code_prefix`\n",
    "- `customer_city`\n",
    "- `customer_state`"
   ]
  },
  {
   "cell_type": "markdown",
   "metadata": {},
   "source": [
    "##### Total Duplicated Records in Customers Dataset"
   ]
  },
  {
   "cell_type": "code",
   "execution_count": 8,
   "metadata": {},
   "outputs": [
    {
     "name": "stdout",
     "output_type": "stream",
     "text": [
      "Total Duplicated Records in Customers Dataset: 0\n"
     ]
    }
   ],
   "source": [
    "print(\"Total Duplicated Records in Customers Dataset:\", customers_df.duplicated().sum())"
   ]
  },
  {
   "cell_type": "markdown",
   "metadata": {},
   "source": [
    "##### Missing Values in Customers Dataset"
   ]
  },
  {
   "cell_type": "code",
   "execution_count": 9,
   "metadata": {},
   "outputs": [
    {
     "name": "stdout",
     "output_type": "stream",
     "text": [
      "Missing values from each column in customers_df\n"
     ]
    },
    {
     "data": {
      "text/plain": [
       "customer_id                 0\n",
       "customer_unique_id          0\n",
       "customer_zip_code_prefix    0\n",
       "customer_city               0\n",
       "customer_state              0\n",
       "dtype: int64"
      ]
     },
     "execution_count": 9,
     "metadata": {},
     "output_type": "execute_result"
    }
   ],
   "source": [
    "print(\"Missing values from each column in customers_df\")\n",
    "customers_df.isnull().sum()"
   ]
  },
  {
   "cell_type": "markdown",
   "metadata": {},
   "source": [
    "#### 2. Order Dataset"
   ]
  },
  {
   "cell_type": "markdown",
   "metadata": {},
   "source": [
    "##### Checking Order Items Dataset Information"
   ]
  },
  {
   "cell_type": "code",
   "execution_count": 10,
   "metadata": {},
   "outputs": [
    {
     "name": "stdout",
     "output_type": "stream",
     "text": [
      "<class 'pandas.core.frame.DataFrame'>\n",
      "RangeIndex: 112650 entries, 0 to 112649\n",
      "Data columns (total 7 columns):\n",
      " #   Column               Non-Null Count   Dtype  \n",
      "---  ------               --------------   -----  \n",
      " 0   order_id             112650 non-null  object \n",
      " 1   order_item_id        112650 non-null  int64  \n",
      " 2   product_id           112650 non-null  object \n",
      " 3   seller_id            112650 non-null  object \n",
      " 4   shipping_limit_date  112650 non-null  object \n",
      " 5   price                112650 non-null  float64\n",
      " 6   freight_value        112650 non-null  float64\n",
      "dtypes: float64(2), int64(1), object(4)\n",
      "memory usage: 6.0+ MB\n"
     ]
    }
   ],
   "source": [
    "order_items_df.info()"
   ]
  },
  {
   "cell_type": "markdown",
   "metadata": {},
   "source": [
    "The \"shipping_limit_date\" column uses the object data type, but it doesn't matter because the \"shipping_limit_date\" column will not be used to answer business questions."
   ]
  },
  {
   "cell_type": "markdown",
   "metadata": {},
   "source": [
    "In **Order Items Dataset**, we will only use column to answer business questions: \n",
    "- `product_id`\n",
    "- `order_id`\n",
    "- `order_item_id`\n",
    "- `price`\n",
    "- `freight_value`"
   ]
  },
  {
   "cell_type": "markdown",
   "metadata": {},
   "source": [
    "##### Total Duplicated Records in Order Items Dataset"
   ]
  },
  {
   "cell_type": "code",
   "execution_count": 11,
   "metadata": {},
   "outputs": [
    {
     "name": "stdout",
     "output_type": "stream",
     "text": [
      "Total Duplicated Records in Order Items Dataset: 0\n"
     ]
    }
   ],
   "source": [
    "print(\"Total Duplicated Records in Order Items Dataset:\",  order_items_df.duplicated().sum())"
   ]
  },
  {
   "cell_type": "markdown",
   "metadata": {},
   "source": [
    "##### Missing Values in Order Items Dataset"
   ]
  },
  {
   "cell_type": "code",
   "execution_count": 12,
   "metadata": {},
   "outputs": [
    {
     "name": "stdout",
     "output_type": "stream",
     "text": [
      "Missing values from each column order_items_df\n"
     ]
    },
    {
     "data": {
      "text/plain": [
       "order_id               0\n",
       "order_item_id          0\n",
       "product_id             0\n",
       "seller_id              0\n",
       "shipping_limit_date    0\n",
       "price                  0\n",
       "freight_value          0\n",
       "dtype: int64"
      ]
     },
     "execution_count": 12,
     "metadata": {},
     "output_type": "execute_result"
    }
   ],
   "source": [
    "print(\"Missing values from each column order_items_df\")\n",
    "order_items_df.isnull().sum()"
   ]
  },
  {
   "cell_type": "markdown",
   "metadata": {},
   "source": [
    "#### 3. Products Dataset"
   ]
  },
  {
   "cell_type": "markdown",
   "metadata": {},
   "source": [
    "##### Checking Products Dataset Information"
   ]
  },
  {
   "cell_type": "code",
   "execution_count": 13,
   "metadata": {},
   "outputs": [
    {
     "name": "stdout",
     "output_type": "stream",
     "text": [
      "<class 'pandas.core.frame.DataFrame'>\n",
      "RangeIndex: 32951 entries, 0 to 32950\n",
      "Data columns (total 9 columns):\n",
      " #   Column                      Non-Null Count  Dtype  \n",
      "---  ------                      --------------  -----  \n",
      " 0   product_id                  32951 non-null  object \n",
      " 1   product_category_name       32341 non-null  object \n",
      " 2   product_name_lenght         32341 non-null  float64\n",
      " 3   product_description_lenght  32341 non-null  float64\n",
      " 4   product_photos_qty          32341 non-null  float64\n",
      " 5   product_weight_g            32949 non-null  float64\n",
      " 6   product_length_cm           32949 non-null  float64\n",
      " 7   product_height_cm           32949 non-null  float64\n",
      " 8   product_width_cm            32949 non-null  float64\n",
      "dtypes: float64(7), object(2)\n",
      "memory usage: 2.3+ MB\n"
     ]
    }
   ],
   "source": [
    "products_df.info()"
   ]
  },
  {
   "cell_type": "markdown",
   "metadata": {},
   "source": [
    "In **Products Dataset**, we will only use column to answer business questions: \n",
    "- `product_id`\n",
    "- `product_category_name`"
   ]
  },
  {
   "cell_type": "markdown",
   "metadata": {},
   "source": [
    "##### Total Duplicated Records in Products Dataset"
   ]
  },
  {
   "cell_type": "code",
   "execution_count": 14,
   "metadata": {},
   "outputs": [
    {
     "name": "stdout",
     "output_type": "stream",
     "text": [
      "Total Duplicated Records in Products Dataset: 0\n"
     ]
    }
   ],
   "source": [
    "print(\"Total Duplicated Records in Products Dataset:\",  products_df.duplicated().sum())"
   ]
  },
  {
   "cell_type": "markdown",
   "metadata": {},
   "source": [
    "##### Missing Values in Products Dataset"
   ]
  },
  {
   "cell_type": "code",
   "execution_count": 15,
   "metadata": {},
   "outputs": [
    {
     "data": {
      "text/plain": [
       "product_id                      0\n",
       "product_category_name         610\n",
       "product_name_lenght           610\n",
       "product_description_lenght    610\n",
       "product_photos_qty            610\n",
       "product_weight_g                2\n",
       "product_length_cm               2\n",
       "product_height_cm               2\n",
       "product_width_cm                2\n",
       "dtype: int64"
      ]
     },
     "execution_count": 15,
     "metadata": {},
     "output_type": "execute_result"
    }
   ],
   "source": [
    "products_df.isnull().sum()"
   ]
  },
  {
   "cell_type": "markdown",
   "metadata": {},
   "source": [
    "Check percentage missing value in \"product category name\" column."
   ]
  },
  {
   "cell_type": "code",
   "execution_count": 16,
   "metadata": {},
   "outputs": [
    {
     "name": "stdout",
     "output_type": "stream",
     "text": [
      "Percentage missing value in 'product category name' column: 1.8512336499650999 %\n"
     ]
    }
   ],
   "source": [
    "print(\"Percentage missing value in 'product category name' column:\", products_df['product_category_name'].isnull().sum() / products_df.shape[0] * 100, \"%\")"
   ]
  },
  {
   "cell_type": "markdown",
   "metadata": {},
   "source": [
    "##### Count Number Unique Product Categories"
   ]
  },
  {
   "cell_type": "code",
   "execution_count": 17,
   "metadata": {},
   "outputs": [
    {
     "name": "stdout",
     "output_type": "stream",
     "text": [
      "Total Unique Product Categories: 73\n"
     ]
    }
   ],
   "source": [
    "print(\"Total Unique Product Categories:\", products_df['product_category_name'].value_counts().count())"
   ]
  },
  {
   "cell_type": "markdown",
   "metadata": {},
   "source": [
    "#### 4. Product Category Name Translation Dataset"
   ]
  },
  {
   "cell_type": "markdown",
   "metadata": {},
   "source": [
    "##### Checking Product Category Name Translation Dataset Information"
   ]
  },
  {
   "cell_type": "code",
   "execution_count": 18,
   "metadata": {},
   "outputs": [
    {
     "name": "stdout",
     "output_type": "stream",
     "text": [
      "<class 'pandas.core.frame.DataFrame'>\n",
      "RangeIndex: 71 entries, 0 to 70\n",
      "Data columns (total 2 columns):\n",
      " #   Column                         Non-Null Count  Dtype \n",
      "---  ------                         --------------  ----- \n",
      " 0   product_category_name          71 non-null     object\n",
      " 1   product_category_name_english  71 non-null     object\n",
      "dtypes: object(2)\n",
      "memory usage: 1.2+ KB\n"
     ]
    }
   ],
   "source": [
    "product_category_name_translation_df.info()"
   ]
  },
  {
   "cell_type": "markdown",
   "metadata": {},
   "source": [
    "In **Product Category Name Translation Dataset**, we will use the following columns to answer business questions: \n",
    "- `product_category_name`\n",
    "- `product_category_name_english`\n",
    "\n",
    "**Product Category Name Translation Dataset** will be used to translate product column in the other dataset."
   ]
  },
  {
   "cell_type": "markdown",
   "metadata": {},
   "source": [
    "##### Total Duplicated Records in Product Category Name Translation Dataset"
   ]
  },
  {
   "cell_type": "code",
   "execution_count": 19,
   "metadata": {},
   "outputs": [
    {
     "name": "stdout",
     "output_type": "stream",
     "text": [
      "Total Duplicated Records in Product Category Name Translation Dataset: 0\n"
     ]
    }
   ],
   "source": [
    "print(\"Total Duplicated Records in Product Category Name Translation Dataset:\",  product_category_name_translation_df.duplicated().sum())"
   ]
  },
  {
   "cell_type": "markdown",
   "metadata": {},
   "source": [
    "##### Missing Values in Product Category Name Translation Dataset"
   ]
  },
  {
   "cell_type": "code",
   "execution_count": 20,
   "metadata": {},
   "outputs": [
    {
     "data": {
      "text/plain": [
       "product_category_name            0\n",
       "product_category_name_english    0\n",
       "dtype: int64"
      ]
     },
     "execution_count": 20,
     "metadata": {},
     "output_type": "execute_result"
    }
   ],
   "source": [
    "product_category_name_translation_df.isnull().sum()"
   ]
  },
  {
   "cell_type": "markdown",
   "metadata": {},
   "source": [
    "#### 5. Orders Dataset"
   ]
  },
  {
   "cell_type": "markdown",
   "metadata": {},
   "source": [
    "##### Checking Orders Dataset Information"
   ]
  },
  {
   "cell_type": "code",
   "execution_count": 21,
   "metadata": {},
   "outputs": [
    {
     "name": "stdout",
     "output_type": "stream",
     "text": [
      "<class 'pandas.core.frame.DataFrame'>\n",
      "RangeIndex: 99441 entries, 0 to 99440\n",
      "Data columns (total 8 columns):\n",
      " #   Column                         Non-Null Count  Dtype \n",
      "---  ------                         --------------  ----- \n",
      " 0   order_id                       99441 non-null  object\n",
      " 1   customer_id                    99441 non-null  object\n",
      " 2   order_status                   99441 non-null  object\n",
      " 3   order_purchase_timestamp       99441 non-null  object\n",
      " 4   order_approved_at              99281 non-null  object\n",
      " 5   order_delivered_carrier_date   97658 non-null  object\n",
      " 6   order_delivered_customer_date  96476 non-null  object\n",
      " 7   order_estimated_delivery_date  99441 non-null  object\n",
      "dtypes: object(8)\n",
      "memory usage: 6.1+ MB\n"
     ]
    }
   ],
   "source": [
    "orders_df.info()"
   ]
  },
  {
   "cell_type": "markdown",
   "metadata": {},
   "source": [
    "In **Orders Dataset**, we will use the following columns to answer business questions: \n",
    "- `order_id`\n",
    "- `order_purchase_timestamp`"
   ]
  },
  {
   "cell_type": "markdown",
   "metadata": {},
   "source": [
    "The data type of `order_purchase_timestamp` is not yet in datetime. So, we will change it later."
   ]
  },
  {
   "cell_type": "markdown",
   "metadata": {},
   "source": [
    "##### Total Duplicated Records in Orders Dataset"
   ]
  },
  {
   "cell_type": "code",
   "execution_count": 22,
   "metadata": {},
   "outputs": [
    {
     "name": "stdout",
     "output_type": "stream",
     "text": [
      "Total Duplicated Records in Orders Dataset: 0\n"
     ]
    }
   ],
   "source": [
    "print(\"Total Duplicated Records in Orders Dataset:\",  orders_df.duplicated().sum())"
   ]
  },
  {
   "cell_type": "markdown",
   "metadata": {},
   "source": [
    "##### Missing Values in Orders Dataset"
   ]
  },
  {
   "cell_type": "code",
   "execution_count": 23,
   "metadata": {},
   "outputs": [
    {
     "data": {
      "text/plain": [
       "order_id                            0\n",
       "customer_id                         0\n",
       "order_status                        0\n",
       "order_purchase_timestamp            0\n",
       "order_approved_at                 160\n",
       "order_delivered_carrier_date     1783\n",
       "order_delivered_customer_date    2965\n",
       "order_estimated_delivery_date       0\n",
       "dtype: int64"
      ]
     },
     "execution_count": 23,
     "metadata": {},
     "output_type": "execute_result"
    }
   ],
   "source": [
    "orders_df.isnull().sum()"
   ]
  },
  {
   "cell_type": "markdown",
   "metadata": {},
   "source": [
    "##### Assessing Summary"
   ]
  },
  {
   "cell_type": "markdown",
   "metadata": {},
   "source": [
    "| Data                              | Data Type                  | Missing Values      | Duplicate Data      | Inaccurate Values   |\n",
    "|-----------------------------------|----------------------------|---------------------|---------------------|---------------------|\n",
    "| customers_df                      | -                          | -                   | -                   | -                   |\n",
    "| order_items_df                    | -                          | -                   | -                   | -                   |\n",
    "| products_df                       | -                          | 610 missing value in product_category_name                 | -                   | -                   |\n",
    "| product_category_name_translation_df | -                      | -                   | -                   | -                   |\n",
    "| orders_df                 | order_purchase_timestamp (datetime) | -            | -                   | -                   |"
   ]
  },
  {
   "cell_type": "markdown",
   "metadata": {},
   "source": [
    "### Cleaning Data"
   ]
  },
  {
   "cell_type": "markdown",
   "metadata": {},
   "source": [
    "##### Change Data Type"
   ]
  },
  {
   "cell_type": "code",
   "execution_count": 24,
   "metadata": {},
   "outputs": [
    {
     "name": "stdout",
     "output_type": "stream",
     "text": [
      "<class 'pandas.core.frame.DataFrame'>\n",
      "RangeIndex: 99441 entries, 0 to 99440\n",
      "Data columns (total 8 columns):\n",
      " #   Column                         Non-Null Count  Dtype         \n",
      "---  ------                         --------------  -----         \n",
      " 0   order_id                       99441 non-null  object        \n",
      " 1   customer_id                    99441 non-null  object        \n",
      " 2   order_status                   99441 non-null  object        \n",
      " 3   order_purchase_timestamp       99441 non-null  datetime64[ns]\n",
      " 4   order_approved_at              99281 non-null  object        \n",
      " 5   order_delivered_carrier_date   97658 non-null  object        \n",
      " 6   order_delivered_customer_date  96476 non-null  object        \n",
      " 7   order_estimated_delivery_date  99441 non-null  object        \n",
      "dtypes: datetime64[ns](1), object(7)\n",
      "memory usage: 6.1+ MB\n"
     ]
    }
   ],
   "source": [
    "orders_df['order_purchase_timestamp'] = pd.to_datetime(orders_df['order_purchase_timestamp'])\n",
    "orders_df.info()"
   ]
  },
  {
   "cell_type": "markdown",
   "metadata": {},
   "source": [
    "#### Handle Missing Value"
   ]
  },
  {
   "cell_type": "markdown",
   "metadata": {},
   "source": [
    "Because percentage missing value in `product_category_name` column is relatively small, only 1.8512336499650999 % and then I just use 2 column from Products Dataset. So, I think if I drop the missing value in that column, It will be fine."
   ]
  },
  {
   "cell_type": "code",
   "execution_count": 25,
   "metadata": {},
   "outputs": [
    {
     "data": {
      "text/plain": [
       "product_id                      0\n",
       "product_category_name         610\n",
       "product_name_lenght           610\n",
       "product_description_lenght    610\n",
       "product_photos_qty            610\n",
       "product_weight_g                2\n",
       "product_length_cm               2\n",
       "product_height_cm               2\n",
       "product_width_cm                2\n",
       "dtype: int64"
      ]
     },
     "execution_count": 25,
     "metadata": {},
     "output_type": "execute_result"
    }
   ],
   "source": [
    "products_df.isnull().sum()"
   ]
  },
  {
   "cell_type": "code",
   "execution_count": 26,
   "metadata": {},
   "outputs": [
    {
     "data": {
      "text/plain": [
       "product_id                    0\n",
       "product_category_name         0\n",
       "product_name_lenght           0\n",
       "product_description_lenght    0\n",
       "product_photos_qty            0\n",
       "product_weight_g              0\n",
       "product_length_cm             0\n",
       "product_height_cm             0\n",
       "product_width_cm              0\n",
       "dtype: int64"
      ]
     },
     "execution_count": 26,
     "metadata": {},
     "output_type": "execute_result"
    }
   ],
   "source": [
    "products_df_with_na_dropped = products_df.dropna()\n",
    "products_df_with_na_dropped.isnull().sum()"
   ]
  },
  {
   "cell_type": "markdown",
   "metadata": {},
   "source": [
    "#### Define New DataFrame as Needed"
   ]
  },
  {
   "cell_type": "markdown",
   "metadata": {},
   "source": [
    "##### Define new Customers Dataset as needed to answer business questions"
   ]
  },
  {
   "cell_type": "code",
   "execution_count": 27,
   "metadata": {},
   "outputs": [],
   "source": [
    "customers_df2 = customers_df.loc[:, ['customer_id', 'customer_zip_code_prefix','customer_city', 'customer_state']]"
   ]
  },
  {
   "cell_type": "markdown",
   "metadata": {},
   "source": [
    "##### Define new Order Items Dataset as needed to answer business questions"
   ]
  },
  {
   "cell_type": "code",
   "execution_count": 28,
   "metadata": {},
   "outputs": [],
   "source": [
    "order_items_df2 = order_items_df.loc[:, ['order_id', 'order_item_id', 'product_id', 'price', 'freight_value']]"
   ]
  },
  {
   "cell_type": "markdown",
   "metadata": {},
   "source": [
    "##### Define new Products Dataset as needed to answer business questions"
   ]
  },
  {
   "cell_type": "code",
   "execution_count": 29,
   "metadata": {},
   "outputs": [],
   "source": [
    "products_df2 = products_df_with_na_dropped.loc[:, ['product_id','product_category_name']]"
   ]
  },
  {
   "cell_type": "code",
   "execution_count": 30,
   "metadata": {},
   "outputs": [
    {
     "data": {
      "text/plain": [
       "product_id               32340\n",
       "product_category_name       73\n",
       "dtype: int64"
      ]
     },
     "execution_count": 30,
     "metadata": {},
     "output_type": "execute_result"
    }
   ],
   "source": [
    "products_df2.nunique()"
   ]
  },
  {
   "cell_type": "code",
   "execution_count": 31,
   "metadata": {},
   "outputs": [
    {
     "data": {
      "text/plain": [
       "product_id               0\n",
       "product_category_name    0\n",
       "dtype: int64"
      ]
     },
     "execution_count": 31,
     "metadata": {},
     "output_type": "execute_result"
    }
   ],
   "source": [
    "products_df2.isnull().sum()"
   ]
  },
  {
   "cell_type": "markdown",
   "metadata": {},
   "source": [
    "There are 73 unique product categories listed in the `product_category_name` column, and there are no missing values. Our objective is to translate the values in the `product_category_name` column to their corresponding values in the `product_category_name_english` column using the information provided in the `product_category_name_translation_df` dataset."
   ]
  },
  {
   "cell_type": "code",
   "execution_count": 32,
   "metadata": {},
   "outputs": [
    {
     "data": {
      "text/plain": [
       "product_category_name            71\n",
       "product_category_name_english    71\n",
       "dtype: int64"
      ]
     },
     "execution_count": 32,
     "metadata": {},
     "output_type": "execute_result"
    }
   ],
   "source": [
    "product_category_name_translation_df.nunique()"
   ]
  },
  {
   "cell_type": "markdown",
   "metadata": {},
   "source": [
    "The `product_category_name_translation_df` dataset consists of a total of 71 English product category names. Consequently, there are 2 categories that lack English translations. It is our responsibility to address this issue manually in order to ensure data completeness."
   ]
  },
  {
   "cell_type": "code",
   "execution_count": 33,
   "metadata": {},
   "outputs": [
    {
     "data": {
      "text/html": [
       "<div>\n",
       "<style scoped>\n",
       "    .dataframe tbody tr th:only-of-type {\n",
       "        vertical-align: middle;\n",
       "    }\n",
       "\n",
       "    .dataframe tbody tr th {\n",
       "        vertical-align: top;\n",
       "    }\n",
       "\n",
       "    .dataframe thead th {\n",
       "        text-align: right;\n",
       "    }\n",
       "</style>\n",
       "<table border=\"1\" class=\"dataframe\">\n",
       "  <thead>\n",
       "    <tr style=\"text-align: right;\">\n",
       "      <th></th>\n",
       "      <th>product_id</th>\n",
       "      <th>product_category_name</th>\n",
       "      <th>product_category_name_english</th>\n",
       "    </tr>\n",
       "  </thead>\n",
       "  <tbody>\n",
       "    <tr>\n",
       "      <th>10368</th>\n",
       "      <td>eb4ce1251cfec891df49b09dda5095b0</td>\n",
       "      <td>alimentos</td>\n",
       "      <td>food</td>\n",
       "    </tr>\n",
       "    <tr>\n",
       "      <th>23347</th>\n",
       "      <td>b9e247fc923da7d723c2545b76efe01e</td>\n",
       "      <td>cool_stuff</td>\n",
       "      <td>cool_stuff</td>\n",
       "    </tr>\n",
       "    <tr>\n",
       "      <th>19057</th>\n",
       "      <td>958cd4fc82ce0223c757f47bc9d67e23</td>\n",
       "      <td>automotivo</td>\n",
       "      <td>auto</td>\n",
       "    </tr>\n",
       "  </tbody>\n",
       "</table>\n",
       "</div>"
      ],
      "text/plain": [
       "                             product_id product_category_name  \\\n",
       "10368  eb4ce1251cfec891df49b09dda5095b0             alimentos   \n",
       "23347  b9e247fc923da7d723c2545b76efe01e            cool_stuff   \n",
       "19057  958cd4fc82ce0223c757f47bc9d67e23            automotivo   \n",
       "\n",
       "      product_category_name_english  \n",
       "10368                          food  \n",
       "23347                    cool_stuff  \n",
       "19057                          auto  "
      ]
     },
     "execution_count": 33,
     "metadata": {},
     "output_type": "execute_result"
    }
   ],
   "source": [
    "products_df2_after_translated = pd.merge(\n",
    "    left=products_df2, \n",
    "    right=product_category_name_translation_df, \n",
    "    on='product_category_name', \n",
    "    how='left'\n",
    ")\n",
    "products_df2_after_translated.sample(3)"
   ]
  },
  {
   "cell_type": "markdown",
   "metadata": {},
   "source": [
    "The total count of missing values is obtained after performing a left merge operation."
   ]
  },
  {
   "cell_type": "code",
   "execution_count": 34,
   "metadata": {},
   "outputs": [
    {
     "data": {
      "text/plain": [
       "product_id                        0\n",
       "product_category_name             0\n",
       "product_category_name_english    13\n",
       "dtype: int64"
      ]
     },
     "execution_count": 34,
     "metadata": {},
     "output_type": "execute_result"
    }
   ],
   "source": [
    "products_df2_after_translated.isnull().sum()"
   ]
  },
  {
   "cell_type": "markdown",
   "metadata": {},
   "source": [
    "Here is the breakdown of the total missing values for each value after the left merge."
   ]
  },
  {
   "cell_type": "code",
   "execution_count": 35,
   "metadata": {},
   "outputs": [
    {
     "data": {
      "text/plain": [
       "portateis_cozinha_e_preparadores_de_alimentos    10\n",
       "pc_gamer                                          3\n",
       "Name: product_category_name, dtype: int64"
      ]
     },
     "execution_count": 35,
     "metadata": {},
     "output_type": "execute_result"
    }
   ],
   "source": [
    "products_df2_after_translated[products_df2_after_translated['product_category_name_english'].isnull()]['product_category_name'].value_counts()"
   ]
  },
  {
   "cell_type": "markdown",
   "metadata": {},
   "source": [
    "The translation of \"portateis_cozinha_e_preparadores_de_alimentos\" to English is \"kitchen_and_food_preparators_portables.\""
   ]
  },
  {
   "cell_type": "code",
   "execution_count": 36,
   "metadata": {},
   "outputs": [],
   "source": [
    "products_df2_after_translated.loc[products_df2_after_translated['product_category_name'] == 'portateis_cozinha_e_preparadores_de_alimentos', 'product_category_name_english'] = 'kitchen_and_food_preparators_portables' "
   ]
  },
  {
   "cell_type": "code",
   "execution_count": 37,
   "metadata": {},
   "outputs": [
    {
     "data": {
      "text/plain": [
       "product_id                       0\n",
       "product_category_name            0\n",
       "product_category_name_english    3\n",
       "dtype: int64"
      ]
     },
     "execution_count": 37,
     "metadata": {},
     "output_type": "execute_result"
    }
   ],
   "source": [
    "products_df2_after_translated.isnull().sum()"
   ]
  },
  {
   "cell_type": "markdown",
   "metadata": {},
   "source": [
    "Similarly, the translation of \"pc_gamer\" to English remains as \"pc_gamer.\""
   ]
  },
  {
   "cell_type": "code",
   "execution_count": 38,
   "metadata": {},
   "outputs": [],
   "source": [
    "products_df2_after_translated.loc[products_df2_after_translated['product_category_name'] == 'pc_gamer', 'product_category_name_english'] = 'pc_gamer' "
   ]
  },
  {
   "cell_type": "code",
   "execution_count": 39,
   "metadata": {},
   "outputs": [
    {
     "data": {
      "text/plain": [
       "product_id                       0\n",
       "product_category_name            0\n",
       "product_category_name_english    0\n",
       "dtype: int64"
      ]
     },
     "execution_count": 39,
     "metadata": {},
     "output_type": "execute_result"
    }
   ],
   "source": [
    "products_df2_after_translated.isnull().sum()"
   ]
  },
  {
   "cell_type": "code",
   "execution_count": 40,
   "metadata": {},
   "outputs": [],
   "source": [
    "products_df2_after_translated.drop(columns='product_category_name', inplace=True)"
   ]
  },
  {
   "cell_type": "code",
   "execution_count": 41,
   "metadata": {},
   "outputs": [
    {
     "name": "stdout",
     "output_type": "stream",
     "text": [
      "<class 'pandas.core.frame.DataFrame'>\n",
      "Int64Index: 32340 entries, 0 to 32339\n",
      "Data columns (total 2 columns):\n",
      " #   Column                         Non-Null Count  Dtype \n",
      "---  ------                         --------------  ----- \n",
      " 0   product_id                     32340 non-null  object\n",
      " 1   product_category_name_english  32340 non-null  object\n",
      "dtypes: object(2)\n",
      "memory usage: 758.0+ KB\n"
     ]
    }
   ],
   "source": [
    "products_df2_after_translated.info()"
   ]
  },
  {
   "cell_type": "markdown",
   "metadata": {},
   "source": [
    "##### Define New DataFrame combined order_items_df2 and products_df2_after_translated"
   ]
  },
  {
   "cell_type": "code",
   "execution_count": 42,
   "metadata": {},
   "outputs": [
    {
     "data": {
      "text/plain": [
       "order_id                            0\n",
       "order_item_id                       0\n",
       "product_id                          0\n",
       "price                               0\n",
       "freight_value                       0\n",
       "product_category_name_english    1604\n",
       "dtype: int64"
      ]
     },
     "execution_count": 42,
     "metadata": {},
     "output_type": "execute_result"
    }
   ],
   "source": [
    "data_transaction_df = pd.merge(\n",
    "    left=order_items_df2,\n",
    "    right=products_df2_after_translated,\n",
    "    on='product_id',\n",
    "    how='left'\n",
    ")\n",
    "data_transaction_df.isnull().sum()"
   ]
  },
  {
   "cell_type": "code",
   "execution_count": 43,
   "metadata": {},
   "outputs": [
    {
     "data": {
      "text/html": [
       "<div>\n",
       "<style scoped>\n",
       "    .dataframe tbody tr th:only-of-type {\n",
       "        vertical-align: middle;\n",
       "    }\n",
       "\n",
       "    .dataframe tbody tr th {\n",
       "        vertical-align: top;\n",
       "    }\n",
       "\n",
       "    .dataframe thead th {\n",
       "        text-align: right;\n",
       "    }\n",
       "</style>\n",
       "<table border=\"1\" class=\"dataframe\">\n",
       "  <thead>\n",
       "    <tr style=\"text-align: right;\">\n",
       "      <th></th>\n",
       "      <th>order_item_id</th>\n",
       "      <th>price</th>\n",
       "      <th>freight_value</th>\n",
       "    </tr>\n",
       "  </thead>\n",
       "  <tbody>\n",
       "    <tr>\n",
       "      <th>count</th>\n",
       "      <td>112650.000000</td>\n",
       "      <td>112650.000000</td>\n",
       "      <td>112650.000000</td>\n",
       "    </tr>\n",
       "    <tr>\n",
       "      <th>mean</th>\n",
       "      <td>1.197834</td>\n",
       "      <td>120.653739</td>\n",
       "      <td>19.990320</td>\n",
       "    </tr>\n",
       "    <tr>\n",
       "      <th>std</th>\n",
       "      <td>0.705124</td>\n",
       "      <td>183.633928</td>\n",
       "      <td>15.806405</td>\n",
       "    </tr>\n",
       "    <tr>\n",
       "      <th>min</th>\n",
       "      <td>1.000000</td>\n",
       "      <td>0.850000</td>\n",
       "      <td>0.000000</td>\n",
       "    </tr>\n",
       "    <tr>\n",
       "      <th>25%</th>\n",
       "      <td>1.000000</td>\n",
       "      <td>39.900000</td>\n",
       "      <td>13.080000</td>\n",
       "    </tr>\n",
       "    <tr>\n",
       "      <th>50%</th>\n",
       "      <td>1.000000</td>\n",
       "      <td>74.990000</td>\n",
       "      <td>16.260000</td>\n",
       "    </tr>\n",
       "    <tr>\n",
       "      <th>75%</th>\n",
       "      <td>1.000000</td>\n",
       "      <td>134.900000</td>\n",
       "      <td>21.150000</td>\n",
       "    </tr>\n",
       "    <tr>\n",
       "      <th>max</th>\n",
       "      <td>21.000000</td>\n",
       "      <td>6735.000000</td>\n",
       "      <td>409.680000</td>\n",
       "    </tr>\n",
       "  </tbody>\n",
       "</table>\n",
       "</div>"
      ],
      "text/plain": [
       "       order_item_id          price  freight_value\n",
       "count  112650.000000  112650.000000  112650.000000\n",
       "mean        1.197834     120.653739      19.990320\n",
       "std         0.705124     183.633928      15.806405\n",
       "min         1.000000       0.850000       0.000000\n",
       "25%         1.000000      39.900000      13.080000\n",
       "50%         1.000000      74.990000      16.260000\n",
       "75%         1.000000     134.900000      21.150000\n",
       "max        21.000000    6735.000000     409.680000"
      ]
     },
     "execution_count": 43,
     "metadata": {},
     "output_type": "execute_result"
    }
   ],
   "source": [
    "data_transaction_df.describe()"
   ]
  },
  {
   "cell_type": "code",
   "execution_count": 44,
   "metadata": {},
   "outputs": [
    {
     "data": {
      "text/plain": [
       "order_id                            0\n",
       "order_item_id                       0\n",
       "product_id                          0\n",
       "price                               0\n",
       "freight_value                       0\n",
       "product_category_name_english    1604\n",
       "dtype: int64"
      ]
     },
     "execution_count": 44,
     "metadata": {},
     "output_type": "execute_result"
    }
   ],
   "source": [
    "data_transaction_df.isnull().sum()"
   ]
  },
  {
   "cell_type": "markdown",
   "metadata": {},
   "source": [
    "We will fill the missing value with \"unknown_category\""
   ]
  },
  {
   "cell_type": "code",
   "execution_count": 45,
   "metadata": {},
   "outputs": [],
   "source": [
    "data_transaction_df['product_category_name_english'].fillna('unknown_category', inplace=True)"
   ]
  },
  {
   "cell_type": "code",
   "execution_count": 46,
   "metadata": {},
   "outputs": [
    {
     "data": {
      "text/plain": [
       "order_id                         0\n",
       "order_item_id                    0\n",
       "product_id                       0\n",
       "price                            0\n",
       "freight_value                    0\n",
       "product_category_name_english    0\n",
       "dtype: int64"
      ]
     },
     "execution_count": 46,
     "metadata": {},
     "output_type": "execute_result"
    }
   ],
   "source": [
    "# Check again the missing value\n",
    "data_transaction_df.isnull().sum()"
   ]
  },
  {
   "cell_type": "code",
   "execution_count": 47,
   "metadata": {},
   "outputs": [],
   "source": [
    "# Rename product_category_name_english column to product_category_name\n",
    "data_transaction_df.rename(columns={\n",
    "    \"product_category_name_english\": \"product_category_name\"\n",
    "}, inplace=True)"
   ]
  },
  {
   "cell_type": "code",
   "execution_count": 48,
   "metadata": {},
   "outputs": [
    {
     "data": {
      "text/plain": [
       "0"
      ]
     },
     "execution_count": 48,
     "metadata": {},
     "output_type": "execute_result"
    }
   ],
   "source": [
    "data_transaction_df.duplicated().sum()"
   ]
  },
  {
   "cell_type": "code",
   "execution_count": 49,
   "metadata": {},
   "outputs": [
    {
     "name": "stdout",
     "output_type": "stream",
     "text": [
      "<class 'pandas.core.frame.DataFrame'>\n",
      "Int64Index: 112650 entries, 0 to 112649\n",
      "Data columns (total 6 columns):\n",
      " #   Column                 Non-Null Count   Dtype  \n",
      "---  ------                 --------------   -----  \n",
      " 0   order_id               112650 non-null  object \n",
      " 1   order_item_id          112650 non-null  int64  \n",
      " 2   product_id             112650 non-null  object \n",
      " 3   price                  112650 non-null  float64\n",
      " 4   freight_value          112650 non-null  float64\n",
      " 5   product_category_name  112650 non-null  object \n",
      "dtypes: float64(2), int64(1), object(3)\n",
      "memory usage: 6.0+ MB\n"
     ]
    }
   ],
   "source": [
    "data_transaction_df.info()"
   ]
  },
  {
   "cell_type": "code",
   "execution_count": 50,
   "metadata": {},
   "outputs": [
    {
     "name": "stdout",
     "output_type": "stream",
     "text": [
      "<class 'pandas.core.frame.DataFrame'>\n",
      "Int64Index: 112650 entries, 0 to 112649\n",
      "Data columns (total 12 columns):\n",
      " #   Column                         Non-Null Count   Dtype         \n",
      "---  ------                         --------------   -----         \n",
      " 0   order_id                       112650 non-null  object        \n",
      " 1   customer_id                    112650 non-null  object        \n",
      " 2   order_status                   112650 non-null  object        \n",
      " 3   order_purchase_timestamp       112650 non-null  datetime64[ns]\n",
      " 4   order_approved_at              112635 non-null  object        \n",
      " 5   order_delivered_carrier_date   111456 non-null  object        \n",
      " 6   order_delivered_customer_date  110196 non-null  object        \n",
      " 7   order_estimated_delivery_date  112650 non-null  object        \n",
      " 8   order_item_id                  112650 non-null  int64         \n",
      " 9   product_id                     112650 non-null  object        \n",
      " 10  price                          112650 non-null  float64       \n",
      " 11  freight_value                  112650 non-null  float64       \n",
      "dtypes: datetime64[ns](1), float64(2), int64(1), object(8)\n",
      "memory usage: 11.2+ MB\n"
     ]
    }
   ],
   "source": [
    "all_order = pd.merge(\n",
    "    left=orders_df,\n",
    "    right=order_items_df2,\n",
    "    on='order_id',\n",
    "    how='right'\n",
    ")\n",
    "all_order.info()"
   ]
  },
  {
   "cell_type": "code",
   "execution_count": 51,
   "metadata": {},
   "outputs": [
    {
     "data": {
      "text/plain": [
       "customer_id                         0\n",
       "customer_zip_code_prefix            0\n",
       "customer_city                       0\n",
       "customer_state                      0\n",
       "order_id                            0\n",
       "order_status                        0\n",
       "order_purchase_timestamp            0\n",
       "order_approved_at                  15\n",
       "order_delivered_carrier_date     1194\n",
       "order_delivered_customer_date    2454\n",
       "order_estimated_delivery_date       0\n",
       "order_item_id                       0\n",
       "product_id                          0\n",
       "price                               0\n",
       "freight_value                       0\n",
       "dtype: int64"
      ]
     },
     "execution_count": 51,
     "metadata": {},
     "output_type": "execute_result"
    }
   ],
   "source": [
    "all_order_with_customer = pd.merge(\n",
    "    left=customers_df2,\n",
    "    right=all_order,\n",
    "    on='customer_id',\n",
    "    how='right'\n",
    ")\n",
    "all_order_with_customer.isnull().sum()"
   ]
  },
  {
   "cell_type": "code",
   "execution_count": 52,
   "metadata": {},
   "outputs": [
    {
     "data": {
      "text/plain": [
       "order_id                            0\n",
       "order_item_id                       0\n",
       "product_id                          0\n",
       "price                               0\n",
       "freight_value                       0\n",
       "product_category_name               0\n",
       "customer_id                         0\n",
       "customer_zip_code_prefix            0\n",
       "customer_city                       0\n",
       "customer_state                      0\n",
       "order_status                        0\n",
       "order_purchase_timestamp            0\n",
       "order_approved_at                  15\n",
       "order_delivered_carrier_date     1194\n",
       "order_delivered_customer_date    2454\n",
       "order_estimated_delivery_date       0\n",
       "dtype: int64"
      ]
     },
     "execution_count": 52,
     "metadata": {},
     "output_type": "execute_result"
    }
   ],
   "source": [
    "all_data = pd.merge(\n",
    "    left=data_transaction_df,\n",
    "    right=all_order_with_customer,\n",
    "    on=['order_id', 'order_item_id', 'product_id', 'price', 'freight_value'],\n",
    "    how='left'\n",
    ")\n",
    "all_data.isnull().sum()"
   ]
  },
  {
   "cell_type": "code",
   "execution_count": 53,
   "metadata": {},
   "outputs": [
    {
     "name": "stdout",
     "output_type": "stream",
     "text": [
      "<class 'pandas.core.frame.DataFrame'>\n",
      "Int64Index: 112650 entries, 0 to 112649\n",
      "Data columns (total 16 columns):\n",
      " #   Column                         Non-Null Count   Dtype         \n",
      "---  ------                         --------------   -----         \n",
      " 0   order_id                       112650 non-null  object        \n",
      " 1   order_item_id                  112650 non-null  int64         \n",
      " 2   product_id                     112650 non-null  object        \n",
      " 3   price                          112650 non-null  float64       \n",
      " 4   freight_value                  112650 non-null  float64       \n",
      " 5   product_category_name          112650 non-null  object        \n",
      " 6   customer_id                    112650 non-null  object        \n",
      " 7   customer_zip_code_prefix       112650 non-null  int64         \n",
      " 8   customer_city                  112650 non-null  object        \n",
      " 9   customer_state                 112650 non-null  object        \n",
      " 10  order_status                   112650 non-null  object        \n",
      " 11  order_purchase_timestamp       112650 non-null  datetime64[ns]\n",
      " 12  order_approved_at              112635 non-null  object        \n",
      " 13  order_delivered_carrier_date   111456 non-null  object        \n",
      " 14  order_delivered_customer_date  110196 non-null  object        \n",
      " 15  order_estimated_delivery_date  112650 non-null  object        \n",
      "dtypes: datetime64[ns](1), float64(2), int64(2), object(11)\n",
      "memory usage: 14.6+ MB\n"
     ]
    }
   ],
   "source": [
    "all_data.info()"
   ]
  },
  {
   "cell_type": "code",
   "execution_count": 54,
   "metadata": {},
   "outputs": [],
   "source": [
    "all_data.drop(all_data.iloc[:, 12:16], inplace=True, axis=1)"
   ]
  },
  {
   "cell_type": "markdown",
   "metadata": {},
   "source": [
    "## Exploratory Data Analysis (EDA)"
   ]
  },
  {
   "cell_type": "markdown",
   "metadata": {},
   "source": [
    "### Exploration all_data"
   ]
  },
  {
   "cell_type": "code",
   "execution_count": 55,
   "metadata": {},
   "outputs": [
    {
     "name": "stdout",
     "output_type": "stream",
     "text": [
      "<class 'pandas.core.frame.DataFrame'>\n",
      "Int64Index: 112650 entries, 0 to 112649\n",
      "Data columns (total 12 columns):\n",
      " #   Column                    Non-Null Count   Dtype         \n",
      "---  ------                    --------------   -----         \n",
      " 0   order_id                  112650 non-null  object        \n",
      " 1   order_item_id             112650 non-null  int64         \n",
      " 2   product_id                112650 non-null  object        \n",
      " 3   price                     112650 non-null  float64       \n",
      " 4   freight_value             112650 non-null  float64       \n",
      " 5   product_category_name     112650 non-null  object        \n",
      " 6   customer_id               112650 non-null  object        \n",
      " 7   customer_zip_code_prefix  112650 non-null  int64         \n",
      " 8   customer_city             112650 non-null  object        \n",
      " 9   customer_state            112650 non-null  object        \n",
      " 10  order_status              112650 non-null  object        \n",
      " 11  order_purchase_timestamp  112650 non-null  datetime64[ns]\n",
      "dtypes: datetime64[ns](1), float64(2), int64(2), object(7)\n",
      "memory usage: 11.2+ MB\n"
     ]
    }
   ],
   "source": [
    "all_data.info()"
   ]
  },
  {
   "cell_type": "markdown",
   "metadata": {},
   "source": [
    "The `all_data` dataset contains several columns. We will focus on two of these columns, namely `customer_id` and `customer_state`. Through these columns, we can gain insights into the demographic distribution of our customers."
   ]
  },
  {
   "cell_type": "code",
   "execution_count": 56,
   "metadata": {},
   "outputs": [
    {
     "name": "stdout",
     "output_type": "stream",
     "text": [
      "Total countries: 27\n"
     ]
    }
   ],
   "source": [
    "total_countries = all_data.groupby(by='customer_state').customer_id.nunique().count()\n",
    "print(\"Total countries:\", total_countries)"
   ]
  },
  {
   "cell_type": "markdown",
   "metadata": {},
   "source": [
    "In the `customers_df2` dataset, there are records for 27 states related to the demographic characteristics of the customers.\n",
    "\n",
    "Now, I would like to examine the dataset and identify the top five states based on the count of customers in each state."
   ]
  },
  {
   "cell_type": "code",
   "execution_count": 57,
   "metadata": {},
   "outputs": [
    {
     "data": {
      "text/html": [
       "<div>\n",
       "<style scoped>\n",
       "    .dataframe tbody tr th:only-of-type {\n",
       "        vertical-align: middle;\n",
       "    }\n",
       "\n",
       "    .dataframe tbody tr th {\n",
       "        vertical-align: top;\n",
       "    }\n",
       "\n",
       "    .dataframe thead th {\n",
       "        text-align: right;\n",
       "    }\n",
       "</style>\n",
       "<table border=\"1\" class=\"dataframe\">\n",
       "  <thead>\n",
       "    <tr style=\"text-align: right;\">\n",
       "      <th></th>\n",
       "      <th>customer_state</th>\n",
       "      <th>customer_id</th>\n",
       "    </tr>\n",
       "  </thead>\n",
       "  <tbody>\n",
       "    <tr>\n",
       "      <th>0</th>\n",
       "      <td>SP</td>\n",
       "      <td>41375</td>\n",
       "    </tr>\n",
       "    <tr>\n",
       "      <th>1</th>\n",
       "      <td>RJ</td>\n",
       "      <td>12762</td>\n",
       "    </tr>\n",
       "    <tr>\n",
       "      <th>2</th>\n",
       "      <td>MG</td>\n",
       "      <td>11544</td>\n",
       "    </tr>\n",
       "    <tr>\n",
       "      <th>3</th>\n",
       "      <td>RS</td>\n",
       "      <td>5432</td>\n",
       "    </tr>\n",
       "    <tr>\n",
       "      <th>4</th>\n",
       "      <td>PR</td>\n",
       "      <td>4998</td>\n",
       "    </tr>\n",
       "  </tbody>\n",
       "</table>\n",
       "</div>"
      ],
      "text/plain": [
       "  customer_state  customer_id\n",
       "0             SP        41375\n",
       "1             RJ        12762\n",
       "2             MG        11544\n",
       "3             RS         5432\n",
       "4             PR         4998"
      ]
     },
     "execution_count": 57,
     "metadata": {},
     "output_type": "execute_result"
    }
   ],
   "source": [
    "top_5_states_df = all_data.groupby(by='customer_state').customer_id.nunique().sort_values(ascending=False).reset_index().head(5)\n",
    "top_5_states_df"
   ]
  },
  {
   "cell_type": "code",
   "execution_count": 58,
   "metadata": {},
   "outputs": [
    {
     "data": {
      "text/html": [
       "<div>\n",
       "<style scoped>\n",
       "    .dataframe tbody tr th:only-of-type {\n",
       "        vertical-align: middle;\n",
       "    }\n",
       "\n",
       "    .dataframe tbody tr th {\n",
       "        vertical-align: top;\n",
       "    }\n",
       "\n",
       "    .dataframe thead th {\n",
       "        text-align: right;\n",
       "    }\n",
       "</style>\n",
       "<table border=\"1\" class=\"dataframe\">\n",
       "  <thead>\n",
       "    <tr style=\"text-align: right;\">\n",
       "      <th></th>\n",
       "      <th>order_item_id</th>\n",
       "      <th>price</th>\n",
       "      <th>freight_value</th>\n",
       "      <th>customer_zip_code_prefix</th>\n",
       "    </tr>\n",
       "  </thead>\n",
       "  <tbody>\n",
       "    <tr>\n",
       "      <th>count</th>\n",
       "      <td>112650.000000</td>\n",
       "      <td>112650.000000</td>\n",
       "      <td>112650.000000</td>\n",
       "      <td>112650.000000</td>\n",
       "    </tr>\n",
       "    <tr>\n",
       "      <th>mean</th>\n",
       "      <td>1.197834</td>\n",
       "      <td>120.653739</td>\n",
       "      <td>19.990320</td>\n",
       "      <td>35119.309090</td>\n",
       "    </tr>\n",
       "    <tr>\n",
       "      <th>std</th>\n",
       "      <td>0.705124</td>\n",
       "      <td>183.633928</td>\n",
       "      <td>15.806405</td>\n",
       "      <td>29866.120801</td>\n",
       "    </tr>\n",
       "    <tr>\n",
       "      <th>min</th>\n",
       "      <td>1.000000</td>\n",
       "      <td>0.850000</td>\n",
       "      <td>0.000000</td>\n",
       "      <td>1003.000000</td>\n",
       "    </tr>\n",
       "    <tr>\n",
       "      <th>25%</th>\n",
       "      <td>1.000000</td>\n",
       "      <td>39.900000</td>\n",
       "      <td>13.080000</td>\n",
       "      <td>11310.000000</td>\n",
       "    </tr>\n",
       "    <tr>\n",
       "      <th>50%</th>\n",
       "      <td>1.000000</td>\n",
       "      <td>74.990000</td>\n",
       "      <td>16.260000</td>\n",
       "      <td>24340.000000</td>\n",
       "    </tr>\n",
       "    <tr>\n",
       "      <th>75%</th>\n",
       "      <td>1.000000</td>\n",
       "      <td>134.900000</td>\n",
       "      <td>21.150000</td>\n",
       "      <td>59028.750000</td>\n",
       "    </tr>\n",
       "    <tr>\n",
       "      <th>max</th>\n",
       "      <td>21.000000</td>\n",
       "      <td>6735.000000</td>\n",
       "      <td>409.680000</td>\n",
       "      <td>99990.000000</td>\n",
       "    </tr>\n",
       "  </tbody>\n",
       "</table>\n",
       "</div>"
      ],
      "text/plain": [
       "       order_item_id          price  freight_value  customer_zip_code_prefix\n",
       "count  112650.000000  112650.000000  112650.000000             112650.000000\n",
       "mean        1.197834     120.653739      19.990320              35119.309090\n",
       "std         0.705124     183.633928      15.806405              29866.120801\n",
       "min         1.000000       0.850000       0.000000               1003.000000\n",
       "25%         1.000000      39.900000      13.080000              11310.000000\n",
       "50%         1.000000      74.990000      16.260000              24340.000000\n",
       "75%         1.000000     134.900000      21.150000              59028.750000\n",
       "max        21.000000    6735.000000     409.680000              99990.000000"
      ]
     },
     "execution_count": 58,
     "metadata": {},
     "output_type": "execute_result"
    }
   ],
   "source": [
    "all_data.describe()"
   ]
  },
  {
   "cell_type": "markdown",
   "metadata": {},
   "source": [
    "**Average Price and Delivery**: \n",
    "- The average price of an order is approximately 120.65 dolar\n",
    "- The average shipping cost is approximately 19.99 dolar\n",
    "\n",
    "**Data Variability**:\n",
    "- The standard deviation of price (183.63) and shipping cost (15.81) is quite high, indicating significant variation in price and shipping cost between orders. This may indicate variations in the types of products sold or perhaps in the delivery locations.\n",
    "\n",
    "**Price and Shipping Cost Range**: \n",
    "- Product prices range from 0.85 dolar to 6735 dolar, while shipping costs range from 0 dolar to 409.68 dolar. This range shows a large variation in price and shipping cost from the lowest to the highest order. There are orders with zero shipping costs (minimum 0.0). This could be an indication of a free shipping method or a special promotion applied to some orders.\n",
    "\n",
    "**Order Item Distribution**: \n",
    "- From the quartile values (25%, 50%, 75%), it can be seen that most orders have only one item (25%, 50%, and 75% at value 1.0 for order_item_id). This indicates that most customers order one item per order."
   ]
  },
  {
   "cell_type": "code",
   "execution_count": 59,
   "metadata": {},
   "outputs": [
    {
     "data": {
      "text/html": [
       "<div>\n",
       "<style scoped>\n",
       "    .dataframe tbody tr th:only-of-type {\n",
       "        vertical-align: middle;\n",
       "    }\n",
       "\n",
       "    .dataframe tbody tr th {\n",
       "        vertical-align: top;\n",
       "    }\n",
       "\n",
       "    .dataframe thead tr th {\n",
       "        text-align: left;\n",
       "    }\n",
       "</style>\n",
       "<table border=\"1\" class=\"dataframe\">\n",
       "  <thead>\n",
       "    <tr>\n",
       "      <th></th>\n",
       "      <th>product_category_name</th>\n",
       "      <th>product_id</th>\n",
       "      <th colspan=\"2\" halign=\"left\">price</th>\n",
       "      <th colspan=\"2\" halign=\"left\">freight_value</th>\n",
       "    </tr>\n",
       "    <tr>\n",
       "      <th></th>\n",
       "      <th></th>\n",
       "      <th>nunique</th>\n",
       "      <th>min</th>\n",
       "      <th>max</th>\n",
       "      <th>min</th>\n",
       "      <th>max</th>\n",
       "    </tr>\n",
       "  </thead>\n",
       "  <tbody>\n",
       "    <tr>\n",
       "      <th>0</th>\n",
       "      <td>agro_industry_and_commerce</td>\n",
       "      <td>74</td>\n",
       "      <td>12.99</td>\n",
       "      <td>2990.00</td>\n",
       "      <td>7.39</td>\n",
       "      <td>194.55</td>\n",
       "    </tr>\n",
       "    <tr>\n",
       "      <th>1</th>\n",
       "      <td>air_conditioning</td>\n",
       "      <td>124</td>\n",
       "      <td>10.90</td>\n",
       "      <td>1599.00</td>\n",
       "      <td>6.58</td>\n",
       "      <td>115.43</td>\n",
       "    </tr>\n",
       "    <tr>\n",
       "      <th>2</th>\n",
       "      <td>art</td>\n",
       "      <td>55</td>\n",
       "      <td>3.50</td>\n",
       "      <td>6499.00</td>\n",
       "      <td>7.39</td>\n",
       "      <td>227.66</td>\n",
       "    </tr>\n",
       "    <tr>\n",
       "      <th>3</th>\n",
       "      <td>arts_and_craftmanship</td>\n",
       "      <td>19</td>\n",
       "      <td>9.80</td>\n",
       "      <td>289.49</td>\n",
       "      <td>7.39</td>\n",
       "      <td>68.72</td>\n",
       "    </tr>\n",
       "    <tr>\n",
       "      <th>4</th>\n",
       "      <td>audio</td>\n",
       "      <td>58</td>\n",
       "      <td>14.90</td>\n",
       "      <td>598.99</td>\n",
       "      <td>4.25</td>\n",
       "      <td>52.67</td>\n",
       "    </tr>\n",
       "    <tr>\n",
       "      <th>...</th>\n",
       "      <td>...</td>\n",
       "      <td>...</td>\n",
       "      <td>...</td>\n",
       "      <td>...</td>\n",
       "      <td>...</td>\n",
       "      <td>...</td>\n",
       "    </tr>\n",
       "    <tr>\n",
       "      <th>69</th>\n",
       "      <td>tablets_printing_image</td>\n",
       "      <td>9</td>\n",
       "      <td>14.90</td>\n",
       "      <td>889.99</td>\n",
       "      <td>1.71</td>\n",
       "      <td>34.49</td>\n",
       "    </tr>\n",
       "    <tr>\n",
       "      <th>70</th>\n",
       "      <td>telephony</td>\n",
       "      <td>1134</td>\n",
       "      <td>5.00</td>\n",
       "      <td>2428.00</td>\n",
       "      <td>0.01</td>\n",
       "      <td>121.22</td>\n",
       "    </tr>\n",
       "    <tr>\n",
       "      <th>71</th>\n",
       "      <td>toys</td>\n",
       "      <td>1411</td>\n",
       "      <td>4.90</td>\n",
       "      <td>1699.99</td>\n",
       "      <td>0.01</td>\n",
       "      <td>193.76</td>\n",
       "    </tr>\n",
       "    <tr>\n",
       "      <th>72</th>\n",
       "      <td>unknown_category</td>\n",
       "      <td>611</td>\n",
       "      <td>3.00</td>\n",
       "      <td>3980.00</td>\n",
       "      <td>0.00</td>\n",
       "      <td>162.08</td>\n",
       "    </tr>\n",
       "    <tr>\n",
       "      <th>73</th>\n",
       "      <td>watches_gifts</td>\n",
       "      <td>1329</td>\n",
       "      <td>8.99</td>\n",
       "      <td>3999.90</td>\n",
       "      <td>0.00</td>\n",
       "      <td>209.63</td>\n",
       "    </tr>\n",
       "  </tbody>\n",
       "</table>\n",
       "<p>74 rows × 6 columns</p>\n",
       "</div>"
      ],
      "text/plain": [
       "         product_category_name product_id  price          freight_value  \\\n",
       "                                  nunique    min      max           min   \n",
       "0   agro_industry_and_commerce         74  12.99  2990.00          7.39   \n",
       "1             air_conditioning        124  10.90  1599.00          6.58   \n",
       "2                          art         55   3.50  6499.00          7.39   \n",
       "3        arts_and_craftmanship         19   9.80   289.49          7.39   \n",
       "4                        audio         58  14.90   598.99          4.25   \n",
       "..                         ...        ...    ...      ...           ...   \n",
       "69      tablets_printing_image          9  14.90   889.99          1.71   \n",
       "70                   telephony       1134   5.00  2428.00          0.01   \n",
       "71                        toys       1411   4.90  1699.99          0.01   \n",
       "72            unknown_category        611   3.00  3980.00          0.00   \n",
       "73               watches_gifts       1329   8.99  3999.90          0.00   \n",
       "\n",
       "            \n",
       "       max  \n",
       "0   194.55  \n",
       "1   115.43  \n",
       "2   227.66  \n",
       "3    68.72  \n",
       "4    52.67  \n",
       "..     ...  \n",
       "69   34.49  \n",
       "70  121.22  \n",
       "71  193.76  \n",
       "72  162.08  \n",
       "73  209.63  \n",
       "\n",
       "[74 rows x 6 columns]"
      ]
     },
     "execution_count": 59,
     "metadata": {},
     "output_type": "execute_result"
    }
   ],
   "source": [
    "all_data.groupby(by=[\"product_category_name\"]).agg({\n",
    "    \"product_id\": \"nunique\",\n",
    "    \"price\":  [\"min\", \"max\"],\n",
    "    \"freight_value\":  [\"min\", \"max\"]\n",
    "}).reset_index()"
   ]
  },
  {
   "cell_type": "code",
   "execution_count": 60,
   "metadata": {},
   "outputs": [
    {
     "data": {
      "text/plain": [
       "product_category_name\n",
       "bed_bath_table               13665\n",
       "furniture_decor              11540\n",
       "health_beauty                11081\n",
       "sports_leisure                9932\n",
       "computers_accessories         9874\n",
       "                             ...  \n",
       "la_cuisine                      16\n",
       "cds_dvds_musicals               16\n",
       "pc_gamer                        11\n",
       "fashion_childrens_clothes        8\n",
       "security_and_services            2\n",
       "Name: order_item_id, Length: 74, dtype: int64"
      ]
     },
     "execution_count": 60,
     "metadata": {},
     "output_type": "execute_result"
    }
   ],
   "source": [
    "df = all_data.groupby('product_category_name')['order_item_id'].sum().sort_values(ascending=False)\n",
    "df"
   ]
  },
  {
   "cell_type": "code",
   "execution_count": 61,
   "metadata": {},
   "outputs": [],
   "source": [
    "most_sold_category = df.idxmax()\n",
    "least_sold_category = df.idxmin()"
   ]
  },
  {
   "cell_type": "code",
   "execution_count": 62,
   "metadata": {},
   "outputs": [
    {
     "name": "stdout",
     "output_type": "stream",
     "text": [
      "The category that recorded the highest number of sales is bed_bath_table with a total of 13665 products sold.\n",
      "The category with the lowest sales is security_and_services having only 2 products sold.\n"
     ]
    }
   ],
   "source": [
    "print(f\"The category that recorded the highest number of sales is {most_sold_category} with a total of {df.max()} products sold.\")\n",
    "print(f\"The category with the lowest sales is {least_sold_category} having only {df.min()} products sold.\")"
   ]
  },
  {
   "cell_type": "code",
   "execution_count": 63,
   "metadata": {},
   "outputs": [
    {
     "data": {
      "text/html": [
       "<div>\n",
       "<style scoped>\n",
       "    .dataframe tbody tr th:only-of-type {\n",
       "        vertical-align: middle;\n",
       "    }\n",
       "\n",
       "    .dataframe tbody tr th {\n",
       "        vertical-align: top;\n",
       "    }\n",
       "\n",
       "    .dataframe thead th {\n",
       "        text-align: right;\n",
       "    }\n",
       "</style>\n",
       "<table border=\"1\" class=\"dataframe\">\n",
       "  <thead>\n",
       "    <tr style=\"text-align: right;\">\n",
       "      <th></th>\n",
       "      <th>customer_id</th>\n",
       "      <th>max_order_timestamp</th>\n",
       "      <th>frequency</th>\n",
       "      <th>monetary</th>\n",
       "      <th>recency</th>\n",
       "    </tr>\n",
       "  </thead>\n",
       "  <tbody>\n",
       "    <tr>\n",
       "      <th>0</th>\n",
       "      <td>00012a2ce6f8dcda20d059ce98491703</td>\n",
       "      <td>2017-11-14</td>\n",
       "      <td>1</td>\n",
       "      <td>89.80</td>\n",
       "      <td>293</td>\n",
       "    </tr>\n",
       "    <tr>\n",
       "      <th>1</th>\n",
       "      <td>000161a058600d5901f007fab4c27140</td>\n",
       "      <td>2017-07-16</td>\n",
       "      <td>1</td>\n",
       "      <td>54.90</td>\n",
       "      <td>414</td>\n",
       "    </tr>\n",
       "    <tr>\n",
       "      <th>2</th>\n",
       "      <td>0001fd6190edaaf884bcaf3d49edf079</td>\n",
       "      <td>2017-02-28</td>\n",
       "      <td>1</td>\n",
       "      <td>179.99</td>\n",
       "      <td>552</td>\n",
       "    </tr>\n",
       "    <tr>\n",
       "      <th>3</th>\n",
       "      <td>0002414f95344307404f0ace7a26f1d5</td>\n",
       "      <td>2017-08-16</td>\n",
       "      <td>1</td>\n",
       "      <td>149.90</td>\n",
       "      <td>383</td>\n",
       "    </tr>\n",
       "    <tr>\n",
       "      <th>4</th>\n",
       "      <td>000379cdec625522490c315e70c7a9fb</td>\n",
       "      <td>2018-04-02</td>\n",
       "      <td>1</td>\n",
       "      <td>93.00</td>\n",
       "      <td>154</td>\n",
       "    </tr>\n",
       "    <tr>\n",
       "      <th>...</th>\n",
       "      <td>...</td>\n",
       "      <td>...</td>\n",
       "      <td>...</td>\n",
       "      <td>...</td>\n",
       "      <td>...</td>\n",
       "    </tr>\n",
       "    <tr>\n",
       "      <th>98661</th>\n",
       "      <td>fffcb937e9dd47a13f05ecb8290f4d3e</td>\n",
       "      <td>2018-03-17</td>\n",
       "      <td>1</td>\n",
       "      <td>78.00</td>\n",
       "      <td>170</td>\n",
       "    </tr>\n",
       "    <tr>\n",
       "      <th>98662</th>\n",
       "      <td>fffecc9f79fd8c764f843e9951b11341</td>\n",
       "      <td>2018-03-29</td>\n",
       "      <td>1</td>\n",
       "      <td>54.90</td>\n",
       "      <td>158</td>\n",
       "    </tr>\n",
       "    <tr>\n",
       "      <th>98663</th>\n",
       "      <td>fffeda5b6d849fbd39689bb92087f431</td>\n",
       "      <td>2018-05-22</td>\n",
       "      <td>1</td>\n",
       "      <td>47.90</td>\n",
       "      <td>104</td>\n",
       "    </tr>\n",
       "    <tr>\n",
       "      <th>98664</th>\n",
       "      <td>ffff42319e9b2d713724ae527742af25</td>\n",
       "      <td>2018-06-13</td>\n",
       "      <td>1</td>\n",
       "      <td>199.90</td>\n",
       "      <td>82</td>\n",
       "    </tr>\n",
       "    <tr>\n",
       "      <th>98665</th>\n",
       "      <td>ffffa3172527f765de70084a7e53aae8</td>\n",
       "      <td>2017-09-02</td>\n",
       "      <td>1</td>\n",
       "      <td>21.80</td>\n",
       "      <td>366</td>\n",
       "    </tr>\n",
       "  </tbody>\n",
       "</table>\n",
       "<p>98666 rows × 5 columns</p>\n",
       "</div>"
      ],
      "text/plain": [
       "                            customer_id max_order_timestamp  frequency  \\\n",
       "0      00012a2ce6f8dcda20d059ce98491703          2017-11-14          1   \n",
       "1      000161a058600d5901f007fab4c27140          2017-07-16          1   \n",
       "2      0001fd6190edaaf884bcaf3d49edf079          2017-02-28          1   \n",
       "3      0002414f95344307404f0ace7a26f1d5          2017-08-16          1   \n",
       "4      000379cdec625522490c315e70c7a9fb          2018-04-02          1   \n",
       "...                                 ...                 ...        ...   \n",
       "98661  fffcb937e9dd47a13f05ecb8290f4d3e          2018-03-17          1   \n",
       "98662  fffecc9f79fd8c764f843e9951b11341          2018-03-29          1   \n",
       "98663  fffeda5b6d849fbd39689bb92087f431          2018-05-22          1   \n",
       "98664  ffff42319e9b2d713724ae527742af25          2018-06-13          1   \n",
       "98665  ffffa3172527f765de70084a7e53aae8          2017-09-02          1   \n",
       "\n",
       "       monetary  recency  \n",
       "0         89.80      293  \n",
       "1         54.90      414  \n",
       "2        179.99      552  \n",
       "3        149.90      383  \n",
       "4         93.00      154  \n",
       "...         ...      ...  \n",
       "98661     78.00      170  \n",
       "98662     54.90      158  \n",
       "98663     47.90      104  \n",
       "98664    199.90       82  \n",
       "98665     21.80      366  \n",
       "\n",
       "[98666 rows x 5 columns]"
      ]
     },
     "execution_count": 63,
     "metadata": {},
     "output_type": "execute_result"
    }
   ],
   "source": [
    "rfm_df = all_data.groupby(by=\"customer_id\", as_index=False).agg({\n",
    "    \"order_purchase_timestamp\": \"max\", #max_order_timestamp\n",
    "    \"order_id\": \"nunique\", #frequency\n",
    "    \"price\": \"sum\" #monetary\n",
    "})\n",
    "rfm_df.columns = [\"customer_id\", \"max_order_timestamp\", \"frequency\", \"monetary\"]\n",
    " \n",
    "rfm_df[\"max_order_timestamp\"] = rfm_df[\"max_order_timestamp\"].dt.date\n",
    "recent_date = all_data[\"order_purchase_timestamp\"].dt.date.max() \n",
    "rfm_df[\"recency\"] = rfm_df[\"max_order_timestamp\"].apply(lambda x: (recent_date - x).days) #days\n",
    "rfm_df"
   ]
  },
  {
   "cell_type": "markdown",
   "metadata": {},
   "source": [
    "Is it only 1 frequency order for each customer?"
   ]
  },
  {
   "cell_type": "code",
   "execution_count": 64,
   "metadata": {},
   "outputs": [
    {
     "data": {
      "text/plain": [
       "1    98666\n",
       "Name: frequency, dtype: int64"
      ]
     },
     "execution_count": 64,
     "metadata": {},
     "output_type": "execute_result"
    }
   ],
   "source": [
    "rfm_df['frequency'].value_counts()"
   ]
  },
  {
   "cell_type": "markdown",
   "metadata": {},
   "source": [
    "Yes, all customers only make a one-time purchase during the specific time period analyzed."
   ]
  },
  {
   "cell_type": "code",
   "execution_count": 65,
   "metadata": {},
   "outputs": [
    {
     "data": {
      "text/plain": [
       "137.7540763788945"
      ]
     },
     "execution_count": 65,
     "metadata": {},
     "output_type": "execute_result"
    }
   ],
   "source": [
    "rfm_df.describe()\n",
    "rfm_df['monetary'].mean() "
   ]
  },
  {
   "cell_type": "markdown",
   "metadata": {},
   "source": [
    "What percentage of customers made purchases above the average value in the monetary data?"
   ]
  },
  {
   "cell_type": "code",
   "execution_count": 66,
   "metadata": {},
   "outputs": [
    {
     "name": "stdout",
     "output_type": "stream",
     "text": [
      "The average monetary value in the dataset is 137.75. Additionally, around 29.28% of the records have a monetary value higher than the mean.\n"
     ]
    }
   ],
   "source": [
    "monetary_mean = rfm_df['monetary'].mean()\n",
    "percentage_above_mean = ((rfm_df['monetary'] > monetary_mean).sum() / rfm_df.shape[0]) * 100\n",
    "\n",
    "sentence = \"The average monetary value in the dataset is {:.2f}. Additionally, around {:.2f}% of the records have a monetary value higher than the mean.\".format(monetary_mean, percentage_above_mean)\n",
    "print(sentence)"
   ]
  },
  {
   "cell_type": "markdown",
   "metadata": {},
   "source": [
    "The percentage of customers who made purchases above the average value is about 29.28%. This means that almost 29.28% of the total customers have made purchases with a value that exceeds the average transaction value. This insight indicates that most customers have purchases that are lower than the average value."
   ]
  },
  {
   "cell_type": "code",
   "execution_count": 67,
   "metadata": {},
   "outputs": [
    {
     "name": "stdout",
     "output_type": "stream",
     "text": [
      "The time range in the RFM dataset spans from 2016-09-04 to 2018-09-03.\n"
     ]
    }
   ],
   "source": [
    "min_date = rfm_df['max_order_timestamp'].min()\n",
    "max_date = rfm_df['max_order_timestamp'].max()\n",
    "\n",
    "sentence = f\"The time range in the RFM dataset spans from {min_date} to {max_date}.\"\n",
    "print(sentence)"
   ]
  },
  {
   "cell_type": "markdown",
   "metadata": {},
   "source": [
    "## Visualization & Explanatory Analysis"
   ]
  },
  {
   "cell_type": "markdown",
   "metadata": {},
   "source": [
    "### Question 1: What are the top five most significant demographic segments of customers, categorized by state?"
   ]
  },
  {
   "cell_type": "markdown",
   "metadata": {},
   "source": [
    "We aim to identify the top five most significant demographic segments of customers, categorized by state. To simplify the communication of this information, it is essential to create data visualizations in the form of bar charts. "
   ]
  },
  {
   "cell_type": "code",
   "execution_count": 83,
   "metadata": {},
   "outputs": [
    {
     "data": {
      "image/png": "[encoded data removed]",
      "text/plain": [
       "<Figure size 1000x600 with 1 Axes>"
      ]
     },
     "metadata": {},
     "output_type": "display_data"
    }
   ],
   "source": [
    "# List of colors to be used in the plot\n",
    "colors = ['#00286b', '#0d54a0', '#547fd0', '#88adfd', '#c1e3ff']\n",
    "\n",
    "# Creating a figure with dimensions 10x6 inches\n",
    "plt.figure(figsize=(10, 6))\n",
    "\n",
    "# Creating a bar plot using seaborn\n",
    "sns.barplot(\n",
    "    x=\"customer_state\",\n",
    "    y=\"customer_id\",\n",
    "    data=top_5_states_df,\n",
    "    palette=colors\n",
    ")\n",
    "\n",
    "# Font settings for the plot title\n",
    "font = {'weight': 'normal',\n",
    "        'size': 13,\n",
    "        }\n",
    "\n",
    "# Adding a title to the plot\n",
    "plt.title(\"Top 5 States by Customer Count\", fontsize=15, fontdict=font)\n",
    "\n",
    "# Adding labels to the x and y axes\n",
    "plt.xlabel(\"State\", fontdict=font)\n",
    "plt.ylabel(\"Number of Customers\", fontdict=font)\n",
    "\n",
    "# Adjusting the plot layout for neatness\n",
    "plt.tight_layout()\n"
   ]
  },
  {
   "cell_type": "markdown",
   "metadata": {},
   "source": [
    "The provided figure offers a clear overview of the five most significant demographic segments of customers categorized by state in Brazil. These segments are associated with the following state abbreviations:\n",
    "\n",
    "1. SP: São Paulo\n",
    "2. RJ: Rio de Janeiro\n",
    "3. MG: Minas Gerais\n",
    "4. RS: Rio Grande do Sul\n",
    "5. PR: Paraná\n",
    "\n",
    "This visualization serves to highlight the most influential customer segments across different states. By understanding the distribution of these segments, we can gain insights into regional customer preferences and tailor our strategies accordingly."
   ]
  },
  {
   "cell_type": "markdown",
   "metadata": {},
   "source": [
    "### Question 2: What are the most and least sold products category?"
   ]
  },
  {
   "cell_type": "markdown",
   "metadata": {},
   "source": [
    "We aim to identify the products with the highest and lowest sales. To simplify the communication of this information, it is essential to create data visualizations in the form of bar charts. Additionally, in order to facilitate others in recognizing products with the best and worst performance, we need to incorporate two sets of data visualizations within a single visual image. To achieve this, the subplot() function can be utilized. The following is an example code snippet for its implementation. Subsequently, the next step naturally involves populating these empty canvases with the appropriate bar charts."
   ]
  },
  {
   "cell_type": "markdown",
   "metadata": {},
   "source": [
    "To accomplish this, naturally we need to create a new DataFrame to store information regarding the sales quantity for each category."
   ]
  },
  {
   "cell_type": "code",
   "execution_count": 81,
   "metadata": {},
   "outputs": [
    {
     "name": "stdout",
     "output_type": "stream",
     "text": [
      "<class 'pandas.core.frame.DataFrame'>\n",
      "RangeIndex: 74 entries, 0 to 73\n",
      "Data columns (total 2 columns):\n",
      " #   Column                 Non-Null Count  Dtype \n",
      "---  ------                 --------------  ----- \n",
      " 0   product_category_name  74 non-null     object\n",
      " 1   order_item_id          74 non-null     int64 \n",
      "dtypes: int64(1), object(1)\n",
      "memory usage: 1.3+ KB\n"
     ]
    }
   ],
   "source": [
    "category_sales = all_data.groupby('product_category_name')['order_item_id'].sum().sort_values(ascending=False).reset_index()\n",
    "category_sales.info()"
   ]
  },
  {
   "cell_type": "code",
   "execution_count": 82,
   "metadata": {},
   "outputs": [
    {
     "data": {
      "text/plain": [
       "Text(0.5, 0.98, 'Best and Worst Performing Product Categories by Number of Sales')"
      ]
     },
     "execution_count": 82,
     "metadata": {},
     "output_type": "execute_result"
    },
    {
     "data": {
      "image/png": "[encoded data removed]",
      "text/plain": [
       "<Figure size 2400x600 with 2 Axes>"
      ]
     },
     "metadata": {},
     "output_type": "display_data"
    }
   ],
   "source": [
    "# Create subplots\n",
    "fig, ax = plt.subplots(nrows=1, ncols=2, figsize=(24, 6))\n",
    "\n",
    "# Define colors\n",
    "colors = ['#00286b', '#c1e3ff', '#c1e3ff', '#c1e3ff', '#c1e3ff']\n",
    "\n",
    "# Font settings for the plot title\n",
    "font1 = {'weight': 'normal',\n",
    "        'size': 15,\n",
    "        }\n",
    "\n",
    "font2 = {'weight': 'normal',\n",
    "        'size': 15,\n",
    "        }\n",
    "\n",
    "# Plot the best performing products\n",
    "sns.barplot(x='order_item_id', y='product_category_name', data=category_sales.head(5), palette=colors, ax=ax[0])\n",
    "ax[0].set_ylabel(None)\n",
    "ax[0].set_xlabel(None)\n",
    "ax[0].set_title(\"Top 5 Best Selling Product Categories\", loc=\"center\", fontsize=15, fontdict=font1)\n",
    "ax[0].tick_params(axis ='y', labelsize=12)\n",
    "\n",
    "# Plot the worst performing products\n",
    "sns.barplot(x='order_item_id', y='product_category_name', data=category_sales.sort_values(by=\"order_item_id\", ascending=True).head(5), palette=colors, ax=ax[1])\n",
    "ax[1].set_ylabel(None)\n",
    "ax[1].set_xlabel(None)\n",
    "ax[1].invert_xaxis()\n",
    "ax[1].yaxis.set_label_position(\"right\")\n",
    "ax[1].yaxis.tick_right()\n",
    "ax[1].set_title(\"Top 5 Least Selling Product Categories\", loc=\"center\", fontsize=15, fontdict=font2)\n",
    "ax[1].tick_params(axis='y', labelsize=12)\n",
    "\n",
    "# Set the overall title\n",
    "plt.suptitle(\"Best and Worst Performing Product Categories by Number of Sales\", fontsize=20)\n"
   ]
  },
  {
   "cell_type": "markdown",
   "metadata": {},
   "source": [
    "From the visualization of the data presented above, we can observe that the \"bed_bath_table\" product is the best-selling item. In contrast, the \"security_and_services\" product is the least sold."
   ]
  },
  {
   "cell_type": "markdown",
   "metadata": {},
   "source": [
    "### RFM Analysis"
   ]
  },
  {
   "cell_type": "markdown",
   "metadata": {},
   "source": [
    "#### Question 3: When did the customer last make a transaction?\n",
    "#### Question 4: How often has a customer made a purchase in the last few months?\n",
    "#### Question 5: How much money did the customer spend in the last few months?"
   ]
  },
  {
   "cell_type": "markdown",
   "metadata": {},
   "source": [
    "To answer the three analysis questions above, we can use an advanced analysis technique called RFM analysis."
   ]
  },
  {
   "cell_type": "markdown",
   "metadata": {},
   "source": [
    "RFM analysis is a data-driven marketing technique used to segment and analyze customers based on their purchasing behavior. The acronym RFM stands for Recency, Frequency, and Monetary Value, which are three key dimensions used to evaluate customer activity and prioritize customer segments for targeted marketing strategies.\n",
    "\n",
    "- Recency (R): This dimension refers to how recently a customer has made a purchase. Customers who have made purchases more recently are often considered more engaged and responsive. Recency is often measured by calculating the time since a customer's last purchase.\n",
    "\n",
    "- Frequency (F): Frequency measures how often a customer makes purchases within a specific period. Customers who make frequent purchases are typically more loyal and valuable to a business. Frequency can be measured by counting the number of transactions within a given timeframe.\n",
    "\n",
    "- Monetary Value (M): Monetary value represents the total amount of money a customer has spent on purchases. Customers with higher monetary value are usually more profitable for a business. Monetary value is calculated by summing up the total spending of a customer."
   ]
  },
  {
   "cell_type": "code",
   "execution_count": 71,
   "metadata": {},
   "outputs": [
    {
     "data": {
      "text/plain": [
       "Text(0.5, 0.98, 'Top Customers Based on RFM Parameters')"
      ]
     },
     "execution_count": 71,
     "metadata": {},
     "output_type": "execute_result"
    },
    {
     "data": {
      "image/png": "[encoded data removed]",
      "text/plain": [
       "<Figure size 3000x600 with 3 Axes>"
      ]
     },
     "metadata": {},
     "output_type": "display_data"
    }
   ],
   "source": [
    "fig, ax = plt.subplots(nrows=1, ncols=3, figsize=(30, 6))\n",
    "\n",
    "colors = [\"#08519c\"]\n",
    "\n",
    "# Plot by Recency\n",
    "recency_data = rfm_df.sort_values(by=\"recency\", ascending=True).head(5)\n",
    "sns.barplot(y=\"recency\", x=\"customer_id\", data=recency_data, palette=colors, ax=ax[0])\n",
    "ax[0].set_ylabel(\"Recency (days)\", fontsize=14)\n",
    "ax[0].set_xlabel(\"Customer ID\", fontsize=14)\n",
    "ax[0].set_title(\"Top Customers by Recency\", loc=\"center\", fontsize=18)\n",
    "ax[0].tick_params(axis='x', labelrotation=90, labelsize=12)\n",
    "\n",
    "# Plot by Frequency\n",
    "frequency_data = rfm_df.sort_values(by=\"frequency\", ascending=False).head(5)\n",
    "sns.barplot(y=\"frequency\", x=\"customer_id\", data=frequency_data, palette=colors, ax=ax[1])\n",
    "ax[1].set_ylabel(\"Frequency\", fontsize=14)\n",
    "ax[1].set_xlabel(\"Customer ID\", fontsize=14)\n",
    "ax[1].set_title(\"Top Customers by Frequency\", loc=\"center\", fontsize=18)\n",
    "ax[1].tick_params(axis='x', labelrotation=90, labelsize=12)\n",
    "\n",
    "# Plot by Monetary\n",
    "monetary_data = rfm_df.sort_values(by=\"monetary\", ascending=False).head(5)\n",
    "sns.barplot(y=\"monetary\", x=\"customer_id\", data=monetary_data, palette=colors, ax=ax[2])\n",
    "ax[2].set_ylabel(\"Monetary\", fontsize=14)\n",
    "ax[2].set_xlabel(\"Customer ID\", fontsize=14)\n",
    "ax[2].set_title(\"Top Customers by Monetary\", loc=\"center\", fontsize=18)\n",
    "ax[2].tick_params(axis='x', labelrotation=90, labelsize=12)\n",
    "\n",
    "plt.suptitle(\"Top Customers Based on RFM Parameters\", fontsize=20)"
   ]
  },
  {
   "cell_type": "markdown",
   "metadata": {},
   "source": [
    "From the visualization of the data presented above, we can observe a selection of top-tier customers based on these three parameters as mentioned earlier. This information naturally assists us in addressing the final set of analytical inquiries. Visual representations in the RFM analysis not only empower us to identify key customer segments but also enable us to craft strategic approaches tailored to their specific characteristics, ultimately optimizing our marketing endeavors and bolstering overall business performance."
   ]
  },
  {
   "cell_type": "markdown",
   "metadata": {},
   "source": [
    "## Conclusion"
   ]
  },
  {
   "cell_type": "markdown",
   "metadata": {},
   "source": [
    "### Question 1: What are the top five most significant demographic segments of customers, categorized by state?"
   ]
  },
  {
   "cell_type": "markdown",
   "metadata": {},
   "source": [
    "The top five most significant demographic segments of customers categorized by state in Brazil are SP (São Paulo), RJ (Rio de Janeiro), MG (Minas Gerais), RS (Rio Grande do Sul), and PR (Paraná). Analyzing these segments provides valuable insights into regional customer preferences, aiding in the customization of strategies to better cater to their needs and enhance business performance."
   ]
  },
  {
   "cell_type": "markdown",
   "metadata": {},
   "source": [
    "### Question 2: What are the most and least sold products category?"
   ]
  },
  {
   "cell_type": "markdown",
   "metadata": {},
   "source": [
    "The best-selling product category is \"bed_bath_table,\" which recorded a total of 13,665 products sold. On the other hand, the category with the lowest sales is \"security_and_services,\" having only 2 products sold. This information underscores the diverse levels of demand across various product categories, offering insights to guide the adjustment of marketing and inventory strategies appropriately."
   ]
  },
  {
   "cell_type": "markdown",
   "metadata": {},
   "source": [
    "### Question 3: When did the customer last make a transaction?"
   ]
  },
  {
   "cell_type": "code",
   "execution_count": 72,
   "metadata": {},
   "outputs": [],
   "source": [
    "last_customers_transaction = rfm_df[['customer_id','max_order_timestamp']].to_csv('last_customers_transaction.csv')"
   ]
  },
  {
   "cell_type": "markdown",
   "metadata": {},
   "source": [
    "The customers purchase period from `2016-9-4` to `2018-9-3`"
   ]
  },
  {
   "cell_type": "markdown",
   "metadata": {},
   "source": [
    "### Question 4: How often has a customer made a purchase?"
   ]
  },
  {
   "cell_type": "code",
   "execution_count": 73,
   "metadata": {},
   "outputs": [],
   "source": [
    "frequency_customer_purchase = rfm_df[['customer_id','frequency']].to_csv('frequency_customer_purchase.csv')"
   ]
  },
  {
   "cell_type": "markdown",
   "metadata": {},
   "source": [
    "All customers only make a one-time purchase during the specific time period analyzed."
   ]
  },
  {
   "cell_type": "markdown",
   "metadata": {},
   "source": [
    "### Question 5: How much money did the customer spend?"
   ]
  },
  {
   "cell_type": "code",
   "execution_count": 74,
   "metadata": {},
   "outputs": [],
   "source": [
    "customer_total_spending = rfm_df[['customer_id', 'monetary']].to_csv('customer_total_spending.csv')"
   ]
  },
  {
   "cell_type": "code",
   "execution_count": 75,
   "metadata": {},
   "outputs": [
    {
     "name": "stdout",
     "output_type": "stream",
     "text": [
      "The average monetary value is 137.75, with a minimum of 0.85, a maximum of 13440.00, and a standard deviation of 210.65.\n"
     ]
    }
   ],
   "source": [
    "mean_monetary = rfm_df['monetary'].mean()\n",
    "min_monetary = rfm_df['monetary'].min()\n",
    "max_monetary = rfm_df['monetary'].max()\n",
    "std_monetary = rfm_df['monetary'].std()\n",
    "\n",
    "sentence = \"The average monetary value is {:.2f}, with a minimum of {:.2f}, a maximum of {:.2f}, and a standard deviation of {:.2f}.\".format(mean_monetary, min_monetary, max_monetary, std_monetary)\n",
    "print(sentence)"
   ]
  },
  {
   "cell_type": "code",
   "execution_count": 78,
   "metadata": {},
   "outputs": [
    {
     "name": "stdout",
     "output_type": "stream",
     "text": [
      "<class 'pandas.core.frame.DataFrame'>\n",
      "Int64Index: 112650 entries, 0 to 112649\n",
      "Data columns (total 12 columns):\n",
      " #   Column                    Non-Null Count   Dtype         \n",
      "---  ------                    --------------   -----         \n",
      " 0   order_id                  112650 non-null  object        \n",
      " 1   order_item_id             112650 non-null  int64         \n",
      " 2   product_id                112650 non-null  object        \n",
      " 3   price                     112650 non-null  float64       \n",
      " 4   freight_value             112650 non-null  float64       \n",
      " 5   product_category_name     112650 non-null  object        \n",
      " 6   customer_id               112650 non-null  object        \n",
      " 7   customer_zip_code_prefix  112650 non-null  int64         \n",
      " 8   customer_city             112650 non-null  object        \n",
      " 9   customer_state            112650 non-null  object        \n",
      " 10  order_status              112650 non-null  object        \n",
      " 11  order_purchase_timestamp  112650 non-null  datetime64[ns]\n",
      "dtypes: datetime64[ns](1), float64(2), int64(2), object(7)\n",
      "memory usage: 11.2+ MB\n"
     ]
    }
   ],
   "source": [
    "all_data.info()"
   ]
  },
  {
   "cell_type": "code",
   "execution_count": null,
   "metadata": {},
   "outputs": [],
   "source": []
  }
 ],
 "metadata": {
  "kernelspec": {
   "display_name": "Python 3 (ipykernel)",
   "language": "python",
   "name": "python3"
  },
  "language_info": {
   "codemirror_mode": {
    "name": "ipython",
    "version": 3
   },
   "file_extension": ".py",
   "mimetype": "text/x-python",
   "name": "python",
   "nbconvert_exporter": "python",
   "pygments_lexer": "ipython3",
   "version": "3.10.9"
  },
  "vscode": {
   "interpreter": {
    "hash": "972b3bf27e332e87b5379f2791f6ef9dfc79c71018c370b0d7423235e20fe4d7"
   }
  }
 },
 "nbformat": 4,
 "nbformat_minor": 2
}
